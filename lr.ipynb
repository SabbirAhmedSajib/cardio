{
 "cells": [
  {
   "cell_type": "code",
   "execution_count": 1,
   "metadata": {},
   "outputs": [],
   "source": [
    "import numpy as np\n",
    "import pandas as pd \n",
    "import matplotlib.pyplot as plt\n",
    "import seaborn as sns\n",
    "from sklearn import preprocessing, metrics\n",
    "from sklearn.linear_model import LogisticRegression\n",
    "from sklearn.model_selection import cross_val_predict, train_test_split\n",
    "from imblearn.over_sampling import SMOTE\n",
    "\n",
    "import warnings\n",
    "warnings.filterwarnings(\"ignore\")"
   ]
  },
  {
   "cell_type": "code",
   "execution_count": 2,
   "metadata": {},
   "outputs": [
    {
     "name": "stdout",
     "output_type": "stream",
     "text": [
      "(68030, 16)\n"
     ]
    },
    {
     "data": {
      "text/html": [
       "<div>\n",
       "<style scoped>\n",
       "    .dataframe tbody tr th:only-of-type {\n",
       "        vertical-align: middle;\n",
       "    }\n",
       "\n",
       "    .dataframe tbody tr th {\n",
       "        vertical-align: top;\n",
       "    }\n",
       "\n",
       "    .dataframe thead th {\n",
       "        text-align: right;\n",
       "    }\n",
       "</style>\n",
       "<table border=\"1\" class=\"dataframe\">\n",
       "  <thead>\n",
       "    <tr style=\"text-align: right;\">\n",
       "      <th></th>\n",
       "      <th>age</th>\n",
       "      <th>height</th>\n",
       "      <th>weight</th>\n",
       "      <th>ap_hi</th>\n",
       "      <th>ap_lo</th>\n",
       "      <th>chol_1</th>\n",
       "      <th>chol_2</th>\n",
       "      <th>chol_3</th>\n",
       "      <th>gluc_1</th>\n",
       "      <th>gluc_2</th>\n",
       "      <th>gluc_3</th>\n",
       "      <th>gender</th>\n",
       "      <th>smoke</th>\n",
       "      <th>alco</th>\n",
       "      <th>active</th>\n",
       "      <th>cardio</th>\n",
       "    </tr>\n",
       "  </thead>\n",
       "  <tbody>\n",
       "    <tr>\n",
       "      <th>0</th>\n",
       "      <td>0.588076</td>\n",
       "      <td>0.579487</td>\n",
       "      <td>0.269841</td>\n",
       "      <td>0.666667</td>\n",
       "      <td>0.576923</td>\n",
       "      <td>1.0</td>\n",
       "      <td>0.0</td>\n",
       "      <td>0.0</td>\n",
       "      <td>1.0</td>\n",
       "      <td>0.0</td>\n",
       "      <td>0.0</td>\n",
       "      <td>1.0</td>\n",
       "      <td>0.0</td>\n",
       "      <td>0.0</td>\n",
       "      <td>1.0</td>\n",
       "      <td>0.0</td>\n",
       "    </tr>\n",
       "    <tr>\n",
       "      <th>1</th>\n",
       "      <td>0.730159</td>\n",
       "      <td>0.517949</td>\n",
       "      <td>0.391534</td>\n",
       "      <td>0.743590</td>\n",
       "      <td>0.615385</td>\n",
       "      <td>0.0</td>\n",
       "      <td>0.0</td>\n",
       "      <td>1.0</td>\n",
       "      <td>1.0</td>\n",
       "      <td>0.0</td>\n",
       "      <td>0.0</td>\n",
       "      <td>0.0</td>\n",
       "      <td>0.0</td>\n",
       "      <td>0.0</td>\n",
       "      <td>1.0</td>\n",
       "      <td>1.0</td>\n",
       "    </tr>\n",
       "    <tr>\n",
       "      <th>2</th>\n",
       "      <td>0.624003</td>\n",
       "      <td>0.564103</td>\n",
       "      <td>0.280423</td>\n",
       "      <td>0.717949</td>\n",
       "      <td>0.538462</td>\n",
       "      <td>0.0</td>\n",
       "      <td>0.0</td>\n",
       "      <td>1.0</td>\n",
       "      <td>1.0</td>\n",
       "      <td>0.0</td>\n",
       "      <td>0.0</td>\n",
       "      <td>0.0</td>\n",
       "      <td>0.0</td>\n",
       "      <td>0.0</td>\n",
       "      <td>0.0</td>\n",
       "      <td>1.0</td>\n",
       "    </tr>\n",
       "    <tr>\n",
       "      <th>3</th>\n",
       "      <td>0.528455</td>\n",
       "      <td>0.584615</td>\n",
       "      <td>0.375661</td>\n",
       "      <td>0.769231</td>\n",
       "      <td>0.653846</td>\n",
       "      <td>1.0</td>\n",
       "      <td>0.0</td>\n",
       "      <td>0.0</td>\n",
       "      <td>1.0</td>\n",
       "      <td>0.0</td>\n",
       "      <td>0.0</td>\n",
       "      <td>1.0</td>\n",
       "      <td>0.0</td>\n",
       "      <td>0.0</td>\n",
       "      <td>1.0</td>\n",
       "      <td>1.0</td>\n",
       "    </tr>\n",
       "    <tr>\n",
       "      <th>4</th>\n",
       "      <td>0.516918</td>\n",
       "      <td>0.517949</td>\n",
       "      <td>0.238095</td>\n",
       "      <td>0.641026</td>\n",
       "      <td>0.500000</td>\n",
       "      <td>1.0</td>\n",
       "      <td>0.0</td>\n",
       "      <td>0.0</td>\n",
       "      <td>1.0</td>\n",
       "      <td>0.0</td>\n",
       "      <td>0.0</td>\n",
       "      <td>0.0</td>\n",
       "      <td>0.0</td>\n",
       "      <td>0.0</td>\n",
       "      <td>0.0</td>\n",
       "      <td>0.0</td>\n",
       "    </tr>\n",
       "  </tbody>\n",
       "</table>\n",
       "</div>"
      ],
      "text/plain": [
       "        age    height    weight     ap_hi     ap_lo  chol_1  chol_2  chol_3  \\\n",
       "0  0.588076  0.579487  0.269841  0.666667  0.576923     1.0     0.0     0.0   \n",
       "1  0.730159  0.517949  0.391534  0.743590  0.615385     0.0     0.0     1.0   \n",
       "2  0.624003  0.564103  0.280423  0.717949  0.538462     0.0     0.0     1.0   \n",
       "3  0.528455  0.584615  0.375661  0.769231  0.653846     1.0     0.0     0.0   \n",
       "4  0.516918  0.517949  0.238095  0.641026  0.500000     1.0     0.0     0.0   \n",
       "\n",
       "   gluc_1  gluc_2  gluc_3  gender  smoke  alco  active  cardio  \n",
       "0     1.0     0.0     0.0     1.0    0.0   0.0     1.0     0.0  \n",
       "1     1.0     0.0     0.0     0.0    0.0   0.0     1.0     1.0  \n",
       "2     1.0     0.0     0.0     0.0    0.0   0.0     0.0     1.0  \n",
       "3     1.0     0.0     0.0     1.0    0.0   0.0     1.0     1.0  \n",
       "4     1.0     0.0     0.0     0.0    0.0   0.0     0.0     0.0  "
      ]
     },
     "execution_count": 2,
     "metadata": {},
     "output_type": "execute_result"
    }
   ],
   "source": [
    "df = pd.read_csv('cardio_cleaned.csv')\n",
    "df.rename(columns = {'cholesterol_1':'chol_1', 'cholesterol_2':'chol_2', 'cholesterol_3':'chol_3'}, inplace = True)\n",
    "df = df.dropna()\n",
    "print(df.shape)\n",
    "df.head()"
   ]
  },
  {
   "cell_type": "code",
   "execution_count": 3,
   "metadata": {},
   "outputs": [],
   "source": [
    "def plot_2d_space(X, y, label='Classes'):   \n",
    "    colors = ['#1F77B4', '#FF7F0E']\n",
    "    markers = ['o', 's']\n",
    "    for l, c, m in zip(np.unique(y), colors, markers):\n",
    "        plt.scatter(\n",
    "            X[y==l, 0],\n",
    "            X[y==l, 1],\n",
    "            c=c, label=l, marker=m\n",
    "        )\n",
    "    plt.title(label)\n",
    "    plt.legend(loc='upper right')\n",
    "    plt.show()"
   ]
  },
  {
   "cell_type": "code",
   "execution_count": 4,
   "metadata": {},
   "outputs": [],
   "source": [
    "def lrcv(key, target_vars, resample=True):\n",
    "    X = df.drop(target_vars[key], axis=1)\n",
    "    y = df[key]\n",
    "    print('\\n{0}\\n'.format(key))\n",
    "\n",
    "    cols = X.columns\n",
    "    X_train, X_test, y_train, y_test = train_test_split(X, y, test_size=0.2,random_state=42) # 80% training and 20% test\n",
    "\n",
    "    if resample:\n",
    "        smote = SMOTE()\n",
    "        print(\"Before oversampling, counts of label '1': {}\".format(sum(y_train==1)))\n",
    "        print(\"Before oversampling, counts of label '0': {} \\n\".format(sum(y_train==0)))\n",
    "        X_train, y_train = smote.fit_sample(X_train, y_train.ravel())\n",
    "        print(\"After oversampling, counts of label '1': {}\".format(sum(y_train==1)))\n",
    "        print(\"After oversampling, counts of label '0': {} \\n\".format(sum(y_train==0)))\n",
    "#         plot_2d_space(X_sm, y_sm, 'SMOTE over-sampling')\n",
    "        \n",
    "    clf = LogisticRegression()\n",
    "    clf.fit(X_train,y_train)\n",
    "    y_pred = clf.predict(X_test)\n",
    "    \n",
    "#     predicted = cross_val_predict(LogisticRegression(), X, y, cv=cv)\n",
    "    print('accuracy: ' + str(metrics.accuracy_score(y_test, y_pred)))\n",
    "    print(metrics.classification_report(y_test, y_pred))\n",
    "    \n",
    "    feature_coefs = pd.Series(clf.coef_.reshape(-1),index=cols).sort_values(ascending=False)\n",
    "    print(feature_coefs)\n",
    "    \n",
    "    print('Confusion matrix:\\n')\n",
    "    cm = metrics.confusion_matrix(y_test,y_pred)\n",
    "    df_cm = pd.DataFrame(cm, index = [i for i in [0,1]],\n",
    "                  columns = [i for i in [0,1]])\n",
    "    plt.figure(figsize = (10,7))\n",
    "    sns.heatmap(df_cm, annot=True)\n",
    "\n",
    "    return clf\n",
    "    "
   ]
  },
  {
   "cell_type": "code",
   "execution_count": 5,
   "metadata": {},
   "outputs": [
    {
     "name": "stdout",
     "output_type": "stream",
     "text": [
      "\n",
      "cardio\n",
      "\n",
      "accuracy: 0.5999559018080258\n",
      "              precision    recall  f1-score   support\n",
      "\n",
      "         0.0       0.57      0.81      0.67      6884\n",
      "         1.0       0.67      0.38      0.48      6722\n",
      "\n",
      "   micro avg       0.60      0.60      0.60     13606\n",
      "   macro avg       0.62      0.60      0.58     13606\n",
      "weighted avg       0.62      0.60      0.58     13606\n",
      "\n",
      "chol_3    0.950996\n",
      "gluc_2    0.352414\n",
      "gluc_1    0.169182\n",
      "height    0.124761\n",
      "ap_hi     0.123848\n",
      "gender    0.122460\n",
      "age       0.074648\n",
      "weight    0.073724\n",
      "chol_2    0.025754\n",
      "alco     -0.089396\n",
      "gluc_3   -0.138901\n",
      "smoke    -0.199376\n",
      "active   -0.203734\n",
      "ap_lo    -0.523252\n",
      "chol_1   -0.594055\n",
      "dtype: float64\n",
      "Confusion matrix:\n",
      "\n"
     ]
    },
    {
     "data": {
      "image/png": "[encoded data removed]",
      "text/plain": [
       "<Figure size 720x504 with 2 Axes>"
      ]
     },
     "metadata": {
      "needs_background": "light"
     },
     "output_type": "display_data"
    }
   ],
   "source": [
    "target_vars = {'cardio': ['cardio'], 'gluc_3':['gluc_1', 'gluc_2', 'gluc_3', 'cardio'], 'chol_3':['chol_1', 'chol_2', 'chol_3', 'cardio']}\n",
    "\n",
    "clf = lrcv('cardio', target_vars, resample=False)"
   ]
  },
  {
   "cell_type": "code",
   "execution_count": 6,
   "metadata": {},
   "outputs": [
    {
     "name": "stdout",
     "output_type": "stream",
     "text": [
      "\n",
      "gluc_3\n",
      "\n",
      "Before oversampling, counts of label '1': 4091\n",
      "Before oversampling, counts of label '0': 50333 \n",
      "\n",
      "After oversampling, counts of label '1': 50333\n",
      "After oversampling, counts of label '0': 50333 \n",
      "\n",
      "accuracy: 0.9079817727473174\n",
      "              precision    recall  f1-score   support\n",
      "\n",
      "         0.0       0.97      0.93      0.95     12523\n",
      "         1.0       0.45      0.65      0.53      1083\n",
      "\n",
      "   micro avg       0.91      0.91      0.91     13606\n",
      "   macro avg       0.71      0.79      0.74     13606\n",
      "weighted avg       0.93      0.91      0.92     13606\n",
      "\n",
      "chol_3    2.075399\n",
      "height    0.945835\n",
      "ap_lo     0.457889\n",
      "alco      0.034332\n",
      "active    0.025183\n",
      "gender   -0.003171\n",
      "smoke    -0.131736\n",
      "age      -0.232470\n",
      "ap_hi    -0.387192\n",
      "weight   -0.819442\n",
      "chol_2   -0.855841\n",
      "chol_1   -1.179844\n",
      "dtype: float64\n",
      "Confusion matrix:\n",
      "\n"
     ]
    },
    {
     "data": {
      "image/png": "[encoded data removed]",
      "text/plain": [
       "<Figure size 720x504 with 2 Axes>"
      ]
     },
     "metadata": {
      "needs_background": "light"
     },
     "output_type": "display_data"
    }
   ],
   "source": [
    "clf = lrcv('gluc_3', target_vars, resample=True)"
   ]
  },
  {
   "cell_type": "code",
   "execution_count": 7,
   "metadata": {},
   "outputs": [
    {
     "name": "stdout",
     "output_type": "stream",
     "text": [
      "\n",
      "chol_3\n",
      "\n",
      "Before oversampling, counts of label '1': 6217\n",
      "Before oversampling, counts of label '0': 48207 \n",
      "\n",
      "After oversampling, counts of label '1': 48207\n",
      "After oversampling, counts of label '0': 48207 \n",
      "\n",
      "accuracy: 0.9002645891518448\n",
      "              precision    recall  f1-score   support\n",
      "\n",
      "         0.0       0.93      0.96      0.94     12025\n",
      "         1.0       0.59      0.46      0.52      1581\n",
      "\n",
      "   micro avg       0.90      0.90      0.90     13606\n",
      "   macro avg       0.76      0.71      0.73     13606\n",
      "weighted avg       0.89      0.90      0.89     13606\n",
      "\n",
      "gluc_3    2.129594\n",
      "height    0.845736\n",
      "alco      0.380643\n",
      "age       0.289442\n",
      "ap_lo     0.265244\n",
      "active    0.227801\n",
      "smoke     0.121630\n",
      "gender   -0.195790\n",
      "weight   -0.473307\n",
      "gluc_2   -0.716066\n",
      "ap_hi    -0.800610\n",
      "gluc_1   -1.115854\n",
      "dtype: float64\n",
      "Confusion matrix:\n",
      "\n"
     ]
    },
    {
     "data": {
      "image/png": "[encoded data removed]",
      "text/plain": [
       "<Figure size 720x504 with 2 Axes>"
      ]
     },
     "metadata": {
      "needs_background": "light"
     },
     "output_type": "display_data"
    }
   ],
   "source": [
    "clf = lrcv('chol_3', target_vars, resample=True)"
   ]
  },
  {
   "cell_type": "code",
   "execution_count": null,
   "metadata": {},
   "outputs": [],
   "source": []
  }
 ],
 "metadata": {
  "kernelspec": {
   "display_name": "Python 3",
   "language": "python",
   "name": "python3"
  },
  "language_info": {
   "codemirror_mode": {
    "name": "ipython",
    "version": 3
   },
   "file_extension": ".py",
   "mimetype": "text/x-python",
   "name": "python",
   "nbconvert_exporter": "python",
   "pygments_lexer": "ipython3",
   "version": "3.7.3"
  }
 },
 "nbformat": 4,
 "nbformat_minor": 2
}
